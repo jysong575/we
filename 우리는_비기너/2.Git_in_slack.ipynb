{
 "cells": [
  {
   "cell_type": "markdown",
   "metadata": {},
   "source": [
    "---\n",
    "\n",
    "## <center> 협업도구 Slack + 분산 버전 관리 GitHub을 연동하면 GitHub에서 발생하는 상황에 대한 업데이트를 구독할 수 있다.</center>\n",
    "\n",
    " \n",
    "---\n",
    "##기능 소개😉\n",
    "\n",
    "<br>ㅁ GitHub 리포지토리에서 발생하는 상황에 대한 업데이트</br>\n",
    "\n",
    "• New commits </br>\n",
    "• New pull requests</br>\n",
    "• New issues </br>\n",
    "• Code reviews </br>\n",
    "• Deployment statuses </br>\n",
    "ㅁ GitHub 활동 및 속성에 대한 링크를 공유할 때 Slack에 대한 자세한 정보를 팀에 제공 </br>\n",
    "\n",
    "• Pull requests </br>\n",
    "• Issues </br>\n",
    "• Linked comments </br>\n",
    "• Code snippets </br>\n",
    "• Developer profiles </br>\n",
    "ㅁ 슬래시 명령으로 조치 수행 </br>\n",
    "\n",
    "• Close an issue or pull request </br>\n",
    "• Reopen an issue or pull request </br>\n",
    "• Open a new issue using a Slack dialog </br>\n",
    "\n",
    "\n",
    "---\n",
    " "
   ]
  },
  {
   "cell_type": "markdown",
   "metadata": {},
   "source": []
  }
 ],
 "metadata": {
  "language_info": {
   "name": "python"
  },
  "orig_nbformat": 4
 },
 "nbformat": 4,
 "nbformat_minor": 2
}
