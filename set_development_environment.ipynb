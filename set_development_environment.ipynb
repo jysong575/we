{
 "cells": [
  {
   "cell_type": "markdown",
   "metadata": {},
   "source": [
    "# 생각 .\n",
    "\n",
    "1. markdown 문법에 익숙해지기\n",
    "2. 팀원들 Visual studio code 통일 및 git 환경에 익숙해지기(vscode 연동)\n",
    "3. Python 및 구글링에 익숙해지기\n",
    "정도..?"
   ]
  },
  {
   "cell_type": "markdown",
   "metadata": {},
   "source": []
  }
 ],
 "metadata": {
  "language_info": {
   "name": "python"
  },
  "orig_nbformat": 4
 },
 "nbformat": 4,
 "nbformat_minor": 2
}
