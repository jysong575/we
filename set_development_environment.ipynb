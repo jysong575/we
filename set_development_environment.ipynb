{
 "cells": [
  {
   "cell_type": "markdown",
   "metadata": {},
   "source": [
    "\n",
    "\n",
    "---\n",
    "# <center>하나하나씩 써가는 Software Environment</center>\n",
    " \n",
    "---\n",
    "\n",
    "\n",
    "* Markdown 문법에 익숙해지기\n",
    "    - 1.1 Markdown 문법\n",
    "        + link 참조\n",
    "- 팀원들 Visual studio code 통일 및 git 환경에 익숙해지기(vscode 연동)\n",
    "    - 2.1 What is Github\n",
    "    - 2.2 visual studio code 사용\n",
    "\n",
    "- Python 및 구글링에 익숙해지기\n"
   ]
  },
  {
   "cell_type": "markdown",
   "metadata": {},
   "source": [
    "### 1.1 Markdown 문법\n",
    "- https://atomic0x90.github.io/markdown/2019/05/24/markdown-Grammar-theorem.html\n",
    "- https://cizz3007.github.io/%EB%A7%88%ED%81%AC%EB%8B%A4%EC%9A%B4/%EB%AC%B8%EB%B2%95/markdown/2018/04/08/markdown/"
   ]
  },
  {
   "cell_type": "markdown",
   "metadata": {},
   "source": [
    "### 2.1 Github\n",
    "\n",
    " #### 2.1.1 What is Github?\n",
    "https://www.youtube.com/watch?v=-27WScuoKQs\n",
    " \n",
    "https://www.youtube.com/watch?v=rhP5pseOJc0&list=PLRx0vPvlEmdD5FLIdwTM4mKBgyjv4no81 - (개인적으로 수학의 정석급 ㅋㅋ)\n",
    "\n",
    " #### 2.1.2 Branch in Github\n",
    "https://youtu.be/I4latDqXo5M\n",
    "\n",
    " ### 2.2 Visual studio code 사용\n",
    "https://youtu.be/K8qVH8V0VvY\n",
    "\n",
    "#### 2.2.1 Using Git in Visual studio code\n",
    "https://youtu.be/qkRuIUSdXnw \n"
   ]
  },
  {
   "cell_type": "markdown",
   "metadata": {},
   "source": []
  }
 ],
 "metadata": {
  "language_info": {
   "name": "python"
  },
  "orig_nbformat": 4
 },
 "nbformat": 4,
 "nbformat_minor": 2
}
